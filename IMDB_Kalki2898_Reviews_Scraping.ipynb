{
 "cells": [
  {
   "cell_type": "code",
   "execution_count": 1,
   "id": "19aa06cd",
   "metadata": {},
   "outputs": [],
   "source": [
    "import re\n",
    "import requests\n",
    "import numpy as np\n",
    "import pandas as pd\n",
    "from bs4 import BeautifulSoup  "
   ]
  },
  {
   "cell_type": "code",
   "execution_count": 2,
   "id": "84f7f11d",
   "metadata": {},
   "outputs": [],
   "source": [
    "url = \"https://www.imdb.com/title/tt12735488/reviews/?ref_=tt_ql_2\""
   ]
  },
  {
   "cell_type": "code",
   "execution_count": 3,
   "id": "80abc952",
   "metadata": {},
   "outputs": [
    {
     "data": {
      "text/plain": [
       "<Response [200]>"
      ]
     },
     "execution_count": 3,
     "metadata": {},
     "output_type": "execute_result"
    }
   ],
   "source": [
    "page = requests.get(url)\n",
    "page"
   ]
  },
  {
   "cell_type": "code",
   "execution_count": 4,
   "id": "d5259546",
   "metadata": {},
   "outputs": [],
   "source": [
    "soup=BeautifulSoup(page.text)"
   ]
  },
  {
   "cell_type": "code",
   "execution_count": null,
   "id": "b589836c",
   "metadata": {},
   "outputs": [],
   "source": []
  },
  {
   "cell_type": "code",
   "execution_count": 5,
   "id": "732bc2cb",
   "metadata": {
    "scrolled": true
   },
   "outputs": [
    {
     "name": "stdout",
     "output_type": "stream",
     "text": [
      "No more 'Load More' button found or error occurred: Message: \n",
      "\n"
     ]
    }
   ],
   "source": [
    "from selenium import webdriver\n",
    "from selenium.webdriver.common.by import By\n",
    "from selenium.webdriver.common.action_chains import ActionChains\n",
    "from selenium.webdriver.support.ui import WebDriverWait\n",
    "from selenium.webdriver.support import expected_conditions as EC\n",
    "from bs4 import BeautifulSoup\n",
    "import time\n",
    "\n",
    "driver = webdriver.Chrome()\n",
    "\n",
    "url = \"https://www.imdb.com/title/tt12735488/reviews/?ref_=tt_ql_2\"\n",
    "\n",
    "driver.get(url)\n",
    "\n",
    "def click_load_more():\n",
    "    while True:\n",
    "        try:\n",
    "            load_more_button = WebDriverWait(driver, 10).until(\n",
    "                EC.element_to_be_clickable((By.CLASS_NAME, 'ipl-load-more__button'))  \n",
    "            ActionChains(driver).move_to_element(load_more_button).click(load_more_button).perform()\n",
    "            \n",
    "            time.sleep(3)\n",
    "        except Exception as e:\n",
    "            print(\"No more 'Load More' button found or error occurred:\", e)\n",
    "            break\n",
    "\n",
    "click_load_more()\n",
    "\n",
    "html_content = driver.page_source\n",
    "\n",
    "soup = BeautifulSoup(html_content, 'html.parser')\n",
    "\n",
    "review_titles = soup.find_all(\"a\", class_=\"title\")\n",
    "\n",
    "reviews = []\n",
    "for review in review_titles:\n",
    "    text = review.get_text(strip=True)\n",
    "    reviews.append(text)\n",
    "\n",
    "driver.quit()\n"
   ]
  },
  {
   "cell_type": "code",
   "execution_count": 6,
   "id": "710bb997",
   "metadata": {},
   "outputs": [
    {
     "data": {
      "text/plain": [
       "625"
      ]
     },
     "execution_count": 6,
     "metadata": {},
     "output_type": "execute_result"
    }
   ],
   "source": [
    "len(reviews)"
   ]
  },
  {
   "cell_type": "code",
   "execution_count": 7,
   "id": "715ddf1d",
   "metadata": {},
   "outputs": [],
   "source": [
    "pd.DataFrame(reviews,columns=[\"Reviews\"]).to_csv(\"KalskiIMDBReviews\")"
   ]
  },
  {
   "cell_type": "code",
   "execution_count": 8,
   "id": "bcb2bc4d",
   "metadata": {},
   "outputs": [
    {
     "data": {
      "text/html": [
       "<div>\n",
       "<style scoped>\n",
       "    .dataframe tbody tr th:only-of-type {\n",
       "        vertical-align: middle;\n",
       "    }\n",
       "\n",
       "    .dataframe tbody tr th {\n",
       "        vertical-align: top;\n",
       "    }\n",
       "\n",
       "    .dataframe thead th {\n",
       "        text-align: right;\n",
       "    }\n",
       "</style>\n",
       "<table border=\"1\" class=\"dataframe\">\n",
       "  <thead>\n",
       "    <tr style=\"text-align: right;\">\n",
       "      <th></th>\n",
       "      <th>Unnamed: 0</th>\n",
       "      <th>Reviews</th>\n",
       "    </tr>\n",
       "  </thead>\n",
       "  <tbody>\n",
       "    <tr>\n",
       "      <th>0</th>\n",
       "      <td>0</td>\n",
       "      <td>Good attempt, story and is engaging, but</td>\n",
       "    </tr>\n",
       "    <tr>\n",
       "      <th>1</th>\n",
       "      <td>1</td>\n",
       "      <td>A visual treat with a strong story &amp; characters</td>\n",
       "    </tr>\n",
       "    <tr>\n",
       "      <th>2</th>\n",
       "      <td>2</td>\n",
       "      <td>Kalki: Epic Vision and Illuminating Indian His...</td>\n",
       "    </tr>\n",
       "    <tr>\n",
       "      <th>3</th>\n",
       "      <td>3</td>\n",
       "      <td>Kalki 2898: Is a Cinematic Masterpiece</td>\n",
       "    </tr>\n",
       "    <tr>\n",
       "      <th>4</th>\n",
       "      <td>4</td>\n",
       "      <td>Majestic at scale, grandeur in VFX, and great ...</td>\n",
       "    </tr>\n",
       "    <tr>\n",
       "      <th>...</th>\n",
       "      <td>...</td>\n",
       "      <td>...</td>\n",
       "    </tr>\n",
       "    <tr>\n",
       "      <th>620</th>\n",
       "      <td>620</td>\n",
       "      <td>Amitabh Bachchan &amp; a power packed 2nd half red...</td>\n",
       "    </tr>\n",
       "    <tr>\n",
       "      <th>621</th>\n",
       "      <td>621</td>\n",
       "      <td>Delight</td>\n",
       "    </tr>\n",
       "    <tr>\n",
       "      <th>622</th>\n",
       "      <td>622</td>\n",
       "      <td>Kalki 2898 AD: A Visual Feast with Narrative H...</td>\n",
       "    </tr>\n",
       "    <tr>\n",
       "      <th>623</th>\n",
       "      <td>623</td>\n",
       "      <td>A Promising Start, Hampered Execution.</td>\n",
       "    </tr>\n",
       "    <tr>\n",
       "      <th>624</th>\n",
       "      <td>624</td>\n",
       "      <td>Kalki 2898 AD: A Missed Opportunity Wrapped in...</td>\n",
       "    </tr>\n",
       "  </tbody>\n",
       "</table>\n",
       "<p>625 rows × 2 columns</p>\n",
       "</div>"
      ],
      "text/plain": [
       "     Unnamed: 0                                            Reviews\n",
       "0             0           Good attempt, story and is engaging, but\n",
       "1             1    A visual treat with a strong story & characters\n",
       "2             2  Kalki: Epic Vision and Illuminating Indian His...\n",
       "3             3             Kalki 2898: Is a Cinematic Masterpiece\n",
       "4             4  Majestic at scale, grandeur in VFX, and great ...\n",
       "..          ...                                                ...\n",
       "620         620  Amitabh Bachchan & a power packed 2nd half red...\n",
       "621         621                                            Delight\n",
       "622         622  Kalki 2898 AD: A Visual Feast with Narrative H...\n",
       "623         623             A Promising Start, Hampered Execution.\n",
       "624         624  Kalki 2898 AD: A Missed Opportunity Wrapped in...\n",
       "\n",
       "[625 rows x 2 columns]"
      ]
     },
     "execution_count": 8,
     "metadata": {},
     "output_type": "execute_result"
    }
   ],
   "source": [
    "df = pd.read_csv(r\"KalskiIMDBReviews\")\n",
    "df"
   ]
  },
  {
   "cell_type": "code",
   "execution_count": 9,
   "id": "c693404f",
   "metadata": {},
   "outputs": [],
   "source": [
    "df.drop(\"Unnamed: 0\", axis = 1, inplace = True)"
   ]
  },
  {
   "cell_type": "code",
   "execution_count": 10,
   "id": "df9efb5a",
   "metadata": {},
   "outputs": [
    {
     "data": {
      "text/html": [
       "<div>\n",
       "<style scoped>\n",
       "    .dataframe tbody tr th:only-of-type {\n",
       "        vertical-align: middle;\n",
       "    }\n",
       "\n",
       "    .dataframe tbody tr th {\n",
       "        vertical-align: top;\n",
       "    }\n",
       "\n",
       "    .dataframe thead th {\n",
       "        text-align: right;\n",
       "    }\n",
       "</style>\n",
       "<table border=\"1\" class=\"dataframe\">\n",
       "  <thead>\n",
       "    <tr style=\"text-align: right;\">\n",
       "      <th></th>\n",
       "      <th>Reviews</th>\n",
       "    </tr>\n",
       "  </thead>\n",
       "  <tbody>\n",
       "    <tr>\n",
       "      <th>0</th>\n",
       "      <td>Good attempt, story and is engaging, but</td>\n",
       "    </tr>\n",
       "    <tr>\n",
       "      <th>1</th>\n",
       "      <td>A visual treat with a strong story &amp; characters</td>\n",
       "    </tr>\n",
       "    <tr>\n",
       "      <th>2</th>\n",
       "      <td>Kalki: Epic Vision and Illuminating Indian His...</td>\n",
       "    </tr>\n",
       "    <tr>\n",
       "      <th>3</th>\n",
       "      <td>Kalki 2898: Is a Cinematic Masterpiece</td>\n",
       "    </tr>\n",
       "    <tr>\n",
       "      <th>4</th>\n",
       "      <td>Majestic at scale, grandeur in VFX, and great ...</td>\n",
       "    </tr>\n",
       "    <tr>\n",
       "      <th>...</th>\n",
       "      <td>...</td>\n",
       "    </tr>\n",
       "    <tr>\n",
       "      <th>620</th>\n",
       "      <td>Amitabh Bachchan &amp; a power packed 2nd half red...</td>\n",
       "    </tr>\n",
       "    <tr>\n",
       "      <th>621</th>\n",
       "      <td>Delight</td>\n",
       "    </tr>\n",
       "    <tr>\n",
       "      <th>622</th>\n",
       "      <td>Kalki 2898 AD: A Visual Feast with Narrative H...</td>\n",
       "    </tr>\n",
       "    <tr>\n",
       "      <th>623</th>\n",
       "      <td>A Promising Start, Hampered Execution.</td>\n",
       "    </tr>\n",
       "    <tr>\n",
       "      <th>624</th>\n",
       "      <td>Kalki 2898 AD: A Missed Opportunity Wrapped in...</td>\n",
       "    </tr>\n",
       "  </tbody>\n",
       "</table>\n",
       "<p>625 rows × 1 columns</p>\n",
       "</div>"
      ],
      "text/plain": [
       "                                               Reviews\n",
       "0             Good attempt, story and is engaging, but\n",
       "1      A visual treat with a strong story & characters\n",
       "2    Kalki: Epic Vision and Illuminating Indian His...\n",
       "3               Kalki 2898: Is a Cinematic Masterpiece\n",
       "4    Majestic at scale, grandeur in VFX, and great ...\n",
       "..                                                 ...\n",
       "620  Amitabh Bachchan & a power packed 2nd half red...\n",
       "621                                            Delight\n",
       "622  Kalki 2898 AD: A Visual Feast with Narrative H...\n",
       "623             A Promising Start, Hampered Execution.\n",
       "624  Kalki 2898 AD: A Missed Opportunity Wrapped in...\n",
       "\n",
       "[625 rows x 1 columns]"
      ]
     },
     "execution_count": 10,
     "metadata": {},
     "output_type": "execute_result"
    }
   ],
   "source": [
    "df"
   ]
  },
  {
   "cell_type": "code",
   "execution_count": 11,
   "id": "feee1c40",
   "metadata": {},
   "outputs": [],
   "source": [
    "import nltk\n",
    "from nltk.sentiment import SentimentIntensityAnalyzer"
   ]
  },
  {
   "cell_type": "code",
   "execution_count": null,
   "id": "05b1ef50",
   "metadata": {},
   "outputs": [],
   "source": []
  },
  {
   "cell_type": "code",
   "execution_count": 12,
   "id": "0b50239c",
   "metadata": {},
   "outputs": [],
   "source": [
    "sent = SentimentIntensityAnalyzer()"
   ]
  },
  {
   "cell_type": "code",
   "execution_count": 13,
   "id": "ae0a6915",
   "metadata": {},
   "outputs": [],
   "source": [
    "def SentiementAnalysis(text):\n",
    "    score = sent.polarity_scores(text)[\"compound\"]\n",
    "\n",
    "    if score>0.1:\n",
    "        return \"Positive\"\n",
    "    elif score<= (-0.1):\n",
    "        return \"Negative\"\n",
    "    else:\n",
    "        return \"Neautral\""
   ]
  },
  {
   "cell_type": "code",
   "execution_count": 14,
   "id": "52ea8891",
   "metadata": {},
   "outputs": [],
   "source": [
    "df[\"Result\"] = df[\"Reviews\"].apply(SentiementAnalysis)"
   ]
  },
  {
   "cell_type": "code",
   "execution_count": 15,
   "id": "b1379366",
   "metadata": {},
   "outputs": [
    {
     "data": {
      "text/html": [
       "<div>\n",
       "<style scoped>\n",
       "    .dataframe tbody tr th:only-of-type {\n",
       "        vertical-align: middle;\n",
       "    }\n",
       "\n",
       "    .dataframe tbody tr th {\n",
       "        vertical-align: top;\n",
       "    }\n",
       "\n",
       "    .dataframe thead th {\n",
       "        text-align: right;\n",
       "    }\n",
       "</style>\n",
       "<table border=\"1\" class=\"dataframe\">\n",
       "  <thead>\n",
       "    <tr style=\"text-align: right;\">\n",
       "      <th></th>\n",
       "      <th>Reviews</th>\n",
       "      <th>Result</th>\n",
       "    </tr>\n",
       "  </thead>\n",
       "  <tbody>\n",
       "    <tr>\n",
       "      <th>0</th>\n",
       "      <td>Good attempt, story and is engaging, but</td>\n",
       "      <td>Positive</td>\n",
       "    </tr>\n",
       "    <tr>\n",
       "      <th>1</th>\n",
       "      <td>A visual treat with a strong story &amp; characters</td>\n",
       "      <td>Positive</td>\n",
       "    </tr>\n",
       "    <tr>\n",
       "      <th>2</th>\n",
       "      <td>Kalki: Epic Vision and Illuminating Indian His...</td>\n",
       "      <td>Positive</td>\n",
       "    </tr>\n",
       "    <tr>\n",
       "      <th>3</th>\n",
       "      <td>Kalki 2898: Is a Cinematic Masterpiece</td>\n",
       "      <td>Positive</td>\n",
       "    </tr>\n",
       "    <tr>\n",
       "      <th>4</th>\n",
       "      <td>Majestic at scale, grandeur in VFX, and great ...</td>\n",
       "      <td>Positive</td>\n",
       "    </tr>\n",
       "    <tr>\n",
       "      <th>...</th>\n",
       "      <td>...</td>\n",
       "      <td>...</td>\n",
       "    </tr>\n",
       "    <tr>\n",
       "      <th>620</th>\n",
       "      <td>Amitabh Bachchan &amp; a power packed 2nd half red...</td>\n",
       "      <td>Neautral</td>\n",
       "    </tr>\n",
       "    <tr>\n",
       "      <th>621</th>\n",
       "      <td>Delight</td>\n",
       "      <td>Positive</td>\n",
       "    </tr>\n",
       "    <tr>\n",
       "      <th>622</th>\n",
       "      <td>Kalki 2898 AD: A Visual Feast with Narrative H...</td>\n",
       "      <td>Neautral</td>\n",
       "    </tr>\n",
       "    <tr>\n",
       "      <th>623</th>\n",
       "      <td>A Promising Start, Hampered Execution.</td>\n",
       "      <td>Positive</td>\n",
       "    </tr>\n",
       "    <tr>\n",
       "      <th>624</th>\n",
       "      <td>Kalki 2898 AD: A Missed Opportunity Wrapped in...</td>\n",
       "      <td>Positive</td>\n",
       "    </tr>\n",
       "  </tbody>\n",
       "</table>\n",
       "<p>625 rows × 2 columns</p>\n",
       "</div>"
      ],
      "text/plain": [
       "                                               Reviews    Result\n",
       "0             Good attempt, story and is engaging, but  Positive\n",
       "1      A visual treat with a strong story & characters  Positive\n",
       "2    Kalki: Epic Vision and Illuminating Indian His...  Positive\n",
       "3               Kalki 2898: Is a Cinematic Masterpiece  Positive\n",
       "4    Majestic at scale, grandeur in VFX, and great ...  Positive\n",
       "..                                                 ...       ...\n",
       "620  Amitabh Bachchan & a power packed 2nd half red...  Neautral\n",
       "621                                            Delight  Positive\n",
       "622  Kalki 2898 AD: A Visual Feast with Narrative H...  Neautral\n",
       "623             A Promising Start, Hampered Execution.  Positive\n",
       "624  Kalki 2898 AD: A Missed Opportunity Wrapped in...  Positive\n",
       "\n",
       "[625 rows x 2 columns]"
      ]
     },
     "execution_count": 15,
     "metadata": {},
     "output_type": "execute_result"
    }
   ],
   "source": [
    "df"
   ]
  },
  {
   "cell_type": "code",
   "execution_count": 16,
   "id": "f3322f00",
   "metadata": {},
   "outputs": [
    {
     "data": {
      "text/plain": [
       "<matplotlib.image.AxesImage at 0x2058eeb0e90>"
      ]
     },
     "execution_count": 16,
     "metadata": {},
     "output_type": "execute_result"
    },
    {
     "data": {
      "image/png": "[encoded data removed]",
      "text/plain": [
       "<Figure size 640x480 with 1 Axes>"
      ]
     },
     "metadata": {},
     "output_type": "display_data"
    }
   ],
   "source": [
    "x = ' '.join(df[\"Result\"].values)\n",
    "from wordcloud import WordCloud\n",
    "import matplotlib.pyplot as plt\n",
    "cloud = WordCloud().generate(x)\n",
    "plt.imshow(cloud)"
   ]
  },
  {
   "cell_type": "code",
   "execution_count": 17,
   "id": "22de0989",
   "metadata": {},
   "outputs": [
    {
     "data": {
      "text/plain": [
       "<Axes: xlabel='Result'>"
      ]
     },
     "execution_count": 17,
     "metadata": {},
     "output_type": "execute_result"
    },
    {
     "data": {
      "image/png": "[encoded data removed]",
      "text/plain": [
       "<Figure size 640x480 with 1 Axes>"
      ]
     },
     "metadata": {},
     "output_type": "display_data"
    }
   ],
   "source": [
    "df[\"Result\"].value_counts().plot(kind = \"bar\", color=[\"green\",\"red\",\"yellow\"])"
   ]
  },
  {
   "cell_type": "code",
   "execution_count": 18,
   "id": "383ca2de",
   "metadata": {},
   "outputs": [
    {
     "data": {
      "text/html": [
       "<div>\n",
       "<style scoped>\n",
       "    .dataframe tbody tr th:only-of-type {\n",
       "        vertical-align: middle;\n",
       "    }\n",
       "\n",
       "    .dataframe tbody tr th {\n",
       "        vertical-align: top;\n",
       "    }\n",
       "\n",
       "    .dataframe thead th {\n",
       "        text-align: right;\n",
       "    }\n",
       "</style>\n",
       "<table border=\"1\" class=\"dataframe\">\n",
       "  <thead>\n",
       "    <tr style=\"text-align: right;\">\n",
       "      <th></th>\n",
       "      <th>Reviews</th>\n",
       "      <th>Result</th>\n",
       "    </tr>\n",
       "  </thead>\n",
       "  <tbody>\n",
       "    <tr>\n",
       "      <th>0</th>\n",
       "      <td>Good attempt, story and is engaging, but</td>\n",
       "      <td>Positive</td>\n",
       "    </tr>\n",
       "    <tr>\n",
       "      <th>1</th>\n",
       "      <td>A visual treat with a strong story &amp; characters</td>\n",
       "      <td>Positive</td>\n",
       "    </tr>\n",
       "    <tr>\n",
       "      <th>2</th>\n",
       "      <td>Kalki: Epic Vision and Illuminating Indian His...</td>\n",
       "      <td>Positive</td>\n",
       "    </tr>\n",
       "    <tr>\n",
       "      <th>3</th>\n",
       "      <td>Kalki 2898: Is a Cinematic Masterpiece</td>\n",
       "      <td>Positive</td>\n",
       "    </tr>\n",
       "    <tr>\n",
       "      <th>4</th>\n",
       "      <td>Majestic at scale, grandeur in VFX, and great ...</td>\n",
       "      <td>Positive</td>\n",
       "    </tr>\n",
       "    <tr>\n",
       "      <th>...</th>\n",
       "      <td>...</td>\n",
       "      <td>...</td>\n",
       "    </tr>\n",
       "    <tr>\n",
       "      <th>620</th>\n",
       "      <td>Amitabh Bachchan &amp; a power packed 2nd half red...</td>\n",
       "      <td>Neautral</td>\n",
       "    </tr>\n",
       "    <tr>\n",
       "      <th>621</th>\n",
       "      <td>Delight</td>\n",
       "      <td>Positive</td>\n",
       "    </tr>\n",
       "    <tr>\n",
       "      <th>622</th>\n",
       "      <td>Kalki 2898 AD: A Visual Feast with Narrative H...</td>\n",
       "      <td>Neautral</td>\n",
       "    </tr>\n",
       "    <tr>\n",
       "      <th>623</th>\n",
       "      <td>A Promising Start, Hampered Execution.</td>\n",
       "      <td>Positive</td>\n",
       "    </tr>\n",
       "    <tr>\n",
       "      <th>624</th>\n",
       "      <td>Kalki 2898 AD: A Missed Opportunity Wrapped in...</td>\n",
       "      <td>Positive</td>\n",
       "    </tr>\n",
       "  </tbody>\n",
       "</table>\n",
       "<p>625 rows × 2 columns</p>\n",
       "</div>"
      ],
      "text/plain": [
       "                                               Reviews    Result\n",
       "0             Good attempt, story and is engaging, but  Positive\n",
       "1      A visual treat with a strong story & characters  Positive\n",
       "2    Kalki: Epic Vision and Illuminating Indian His...  Positive\n",
       "3               Kalki 2898: Is a Cinematic Masterpiece  Positive\n",
       "4    Majestic at scale, grandeur in VFX, and great ...  Positive\n",
       "..                                                 ...       ...\n",
       "620  Amitabh Bachchan & a power packed 2nd half red...  Neautral\n",
       "621                                            Delight  Positive\n",
       "622  Kalki 2898 AD: A Visual Feast with Narrative H...  Neautral\n",
       "623             A Promising Start, Hampered Execution.  Positive\n",
       "624  Kalki 2898 AD: A Missed Opportunity Wrapped in...  Positive\n",
       "\n",
       "[625 rows x 2 columns]"
      ]
     },
     "execution_count": 18,
     "metadata": {},
     "output_type": "execute_result"
    }
   ],
   "source": [
    "df"
   ]
  },
  {
   "cell_type": "code",
   "execution_count": null,
   "id": "f495445e",
   "metadata": {},
   "outputs": [],
   "source": []
  }
 ],
 "metadata": {
  "kernelspec": {
   "display_name": "Python 3 (ipykernel)",
   "language": "python",
   "name": "python3"
  },
  "language_info": {
   "codemirror_mode": {
    "name": "ipython",
    "version": 3
   },
   "file_extension": ".py",
   "mimetype": "text/x-python",
   "name": "python",
   "nbconvert_exporter": "python",
   "pygments_lexer": "ipython3",
   "version": "3.11.5"
  }
 },
 "nbformat": 4,
 "nbformat_minor": 5
}
